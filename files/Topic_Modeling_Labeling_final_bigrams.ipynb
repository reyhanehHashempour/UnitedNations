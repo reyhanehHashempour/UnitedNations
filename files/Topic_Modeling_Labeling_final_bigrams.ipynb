{
 "cells": [
  {
   "cell_type": "markdown",
   "metadata": {},
   "source": [
    "# Automatic labelling of topics for United Nations General Debate Corpus (UNGDC) "
   ]
  },
  {
   "cell_type": "markdown",
   "metadata": {},
   "source": [
    "This program consists of two parts: First, the topics occurring in United Nations General Debate Corpus (UNGDC) are discovered.\n",
    "Second, the discovered topics are automatically labelled using the pipeline offered as part of the publication \n",
    "“Automatic labelling of topics using neural embeddings” by Bhatia et al in 2016.\n",
    "\n",
    "In the first part, using Gensim library in Python, an LDA model is trained on the corpus and semantic coherence measure\n",
    "is used to find an optimal number of topics. The program outputs the optimal number of topics along with their 10 most frequent\n",
    "words.\n",
    "\n",
    "In the second part, the discovered topic along with their 10 most frequent words is fed to the pipeline in a .csv file.\n",
    "Each line in the file  contains the topic id (here: 0 to 10) along with top n (here 10) words. The path to this file is updated in get_labels.py.\n",
    "\n",
    "Finally, the get_labels.py should should be run by typing \"python get_labels.py -cg –us -s ” in the command prompt.\n",
    "It will give you candidate labels in a file with unsupervised and supervised labels printed on the console as well as in output files.\n",
    "By default output files namely output_candidates, output_unsupervised, and output_supervised will be created in the same directory.\n",
    "\n"
   ]
  },
  {
   "cell_type": "markdown",
   "metadata": {},
   "source": [
    "# Import the required packages"
   ]
  },
  {
   "cell_type": "code",
   "execution_count": 2,
   "metadata": {
    "collapsed": true
   },
   "outputs": [],
   "source": [
    "#Taken From:https://datascienceplus.com/evaluation-of-topic-modeling-topic-coherence/\n",
    "from pprint import pprint\n",
    "import numpy as np\n",
    "import os,re\n",
    "import pyLDAvis.gensim\n",
    "import warnings\n",
    "warnings.filterwarnings('ignore')  # To ignore all warnings that arise here to enhance clarity\n",
    "\n",
    "from gensim.models.coherencemodel import CoherenceModel\n",
    "from gensim.models.ldamodel import LdaModel\n",
    "from gensim.corpora.dictionary import Dictionary\n",
    "from numpy import array"
   ]
  },
  {
   "cell_type": "markdown",
   "metadata": {},
   "source": [
    "# Import the dataset\n",
    "In this part, the corpus is read into a list (docs). Each file (each speech) in the corpus is an element in this list.\n"
   ]
  },
  {
   "cell_type": "code",
   "execution_count": 3,
   "metadata": {},
   "outputs": [
    {
     "name": "stdout",
     "output_type": "stream",
     "text": [
      "7897\n"
     ]
    }
   ],
   "source": [
    "docs=[]\n",
    "pattern='^[A-Z]{1,4}_[0-9]{2}_[0-9]{4}.txt$'\n",
    "path='C:/UN/'\n",
    "for (dirname, dirs, files) in os.walk(path):\n",
    "   for filename in files:\n",
    "        thefile = os.path.join(dirname,filename)\n",
    "        with open (thefile,encoding='utf8',errors='ignore') as fin:\n",
    "             if re.match(pattern, filename):\n",
    "\n",
    "                doc=fin.read().strip('\\n\\t')\n",
    "                docs.append(doc)       \n",
    "print(len(docs))"
   ]
  },
  {
   "cell_type": "markdown",
   "metadata": {},
   "source": [
    "# Define a function for tokenizing and lemmatizing\n",
    "In this part, some pre-processing is done on the corpus to get rid of the words that useful information, such as function words like the, or digits. The corpus is also lemmatized to avoid sparsity."
   ]
  },
  {
   "cell_type": "code",
   "execution_count": 4,
   "metadata": {
    "collapsed": true
   },
   "outputs": [],
   "source": [
    "from nltk.stem.wordnet import WordNetLemmatizer\n",
    "from nltk.tokenize import RegexpTokenizer\n",
    "\n",
    "def docs_preprocessor(docs):\n",
    "    tokenizer = RegexpTokenizer(r'\\w+')\n",
    "    for idx in range(len(docs)):\n",
    "        docs[idx] = docs[idx].lower()  # Convert to lowercase.\n",
    "        docs[idx] = tokenizer.tokenize(docs[idx])  # Split into words.\n",
    "\n",
    "    # Remove numbers, but not words that contain numbers.\n",
    "    docs = [[token for token in doc if not token.isdigit()] for doc in docs]\n",
    "    \n",
    "    # Remove words that are only one character.\n",
    "    docs = [[token for token in doc if len(token) > 3] for doc in docs]\n",
    "    \n",
    "    # Lemmatize all words in documents.\n",
    "    lemmatizer = WordNetLemmatizer()\n",
    "    docs = [[lemmatizer.lemmatize(token) for token in doc] for doc in docs]\n",
    "  \n",
    "    return docs\n",
    "# Perform function on our document\n",
    "docs = docs_preprocessor(docs)\n"
   ]
  },
  {
   "cell_type": "markdown",
   "metadata": {},
   "source": [
    "# Create Biagram & Trigram Models "
   ]
  },
  {
   "cell_type": "code",
   "execution_count": 5,
   "metadata": {
    "collapsed": true
   },
   "outputs": [],
   "source": [
    "from gensim.models import Phrases\n",
    "# Add bigrams and trigrams to docs,minimum count 10 means only that appear 10 times or more.\n",
    "bigram = Phrases(docs, min_count=10)\n",
    "trigram = Phrases(bigram[docs])\n",
    "\n",
    "for idx in range(len(docs)):\n",
    "    for token in bigram[docs[idx]]:\n",
    "        if '_' in token:\n",
    "            # Token is a bigram, add to document.\n",
    "            docs[idx].append(token)\n",
    "    for token in trigram[docs[idx]]:\n",
    "        if '_' in token:\n",
    "            # Token is a trigram, add to document.\n",
    "            docs[idx].append(token)\n"
   ]
  },
  {
   "cell_type": "markdown",
   "metadata": {},
   "source": [
    "# Remove rare & common tokens "
   ]
  },
  {
   "cell_type": "code",
   "execution_count": 6,
   "metadata": {},
   "outputs": [
    {
     "name": "stdout",
     "output_type": "stream",
     "text": [
      "Number of unique tokens: 41244\n",
      "Number of documents: 7897\n"
     ]
    }
   ],
   "source": [
    "# Create a dictionary representation of the documents.\n",
    "dictionary = Dictionary(docs)\n",
    "dictionary.filter_extremes(no_below=10, no_above=0.2)\n",
    "#Create dictionary and corpus required for Topic Modeling\n",
    "corpus = [dictionary.doc2bow(doc) for doc in docs]\n",
    "print('Number of unique tokens: %d' % len(dictionary))\n",
    "print('Number of documents: %d' % len(corpus))"
   ]
  },
  {
   "cell_type": "markdown",
   "metadata": {},
   "source": [
    "# Build The Model"
   ]
  },
  {
   "cell_type": "code",
   "execution_count": 7,
   "metadata": {},
   "outputs": [
    {
     "name": "stdout",
     "output_type": "stream",
     "text": [
      "[(0, '0.008*\"soviet_union\" + 0.008*\"republic_korea\" + 0.004*\"korean_peninsula\" + 0.003*\"korean\" + 0.003*\"cyprus\" + 0.003*\"foreign_policy\" + 0.003*\"viet\" + 0.003*\"super_power\" + 0.002*\"aligned_country\" + 0.002*\"south_east\"'), (1, '0.004*\"peace_keeping\" + 0.003*\"least_developed\" + 0.002*\"special_session\" + 0.002*\"south_african\" + 0.002*\"developed_developing\" + 0.002*\"programme_action\" + 0.002*\"prime_minister\" + 0.001*\"peaceful_settlement\" + 0.001*\"south_pacific\" + 0.001*\"this_connection\"'), (2, '0.005*\"syria\" + 0.004*\"syrian\" + 0.004*\"islamic\" + 0.003*\"sudan\" + 0.003*\"libya\" + 0.003*\"islamic_republic\" + 0.003*\"call_upon\" + 0.002*\"iraqi\" + 0.002*\"arab_emirate\" + 0.002*\"south_sudan\"'), (3, '0.005*\"central_african\" + 0.003*\"latin_american\" + 0.003*\"guinea_bissau\" + 0.003*\"trinidad_tobago\" + 0.003*\"central_america\" + 0.003*\"third_world\" + 0.002*\"central_american\" + 0.002*\"make_possible\" + 0.002*\"costa_rica\" + 0.002*\"western_sahara\"'), (4, '0.005*\"european_union\" + 0.004*\"small_island\" + 0.003*\"millennium_development\" + 0.003*\"african_union\" + 0.002*\"twenty_first\" + 0.002*\"around_world\" + 0.002*\"agenda_sustainable\" + 0.002*\"good_governance\" + 0.002*\"next_year\" + 0.002*\"natural_disaster\"')]\n"
     ]
    }
   ],
   "source": [
    "# Set parameters.\n",
    "num_topics = 5\n",
    "chunksize = 500 \n",
    "passes = 20 \n",
    "iterations = 400\n",
    "eval_every = 1  \n",
    "\n",
    "# Make a index to word dictionary.\n",
    "temp = dictionary[0]  # only to \"load\" the dictionary.\n",
    "id2word = dictionary.id2token\n",
    "\n",
    "lda_model = LdaModel(corpus=corpus, id2word=id2word, chunksize=chunksize, \\\n",
    "                       alpha='auto', eta='auto', \\\n",
    "                       iterations=iterations, num_topics=num_topics, \\\n",
    "                       passes=passes, eval_every=eval_every)\n",
    "# Print the Keyword in the 5 topics\n",
    "print(lda_model.print_topics())"
   ]
  },
  {
   "cell_type": "markdown",
   "metadata": {},
   "source": [
    "# Find the optimal number of topics"
   ]
  },
  {
   "cell_type": "code",
   "execution_count": 8,
   "metadata": {
    "collapsed": true
   },
   "outputs": [],
   "source": [
    "#Using c_v Measure\n",
    "def compute_coherence_values(dictionary, corpus, texts, limit, start=10, step=5):\n",
    "    \"\"\"\n",
    "    Compute c_v coherence for various number of topics\n",
    "\n",
    "    Parameters:\n",
    "    ----------\n",
    "    dictionary : Gensim dictionary\n",
    "    corpus : Gensim corpus\n",
    "    texts : List of input texts\n",
    "    limit : Max num of topics\n",
    "\n",
    "    Returns:\n",
    "    -------\n",
    "    model_list : List of LDA topic models\n",
    "    coherence_values : Coherence values corresponding to the LDA model with respective number of topics\n",
    "    \"\"\"\n",
    "    coherence_values = []\n",
    "    model_list = []\n",
    "    for num_topics in range(start, limit, step):\n",
    "        model=LdaModel(corpus=corpus, id2word=dictionary, num_topics=num_topics)\n",
    "        model_list.append(model)\n",
    "        coherencemodel = CoherenceModel(model=model, texts=texts, dictionary=dictionary, coherence='c_v')\n",
    "        coherence_values.append(coherencemodel.get_coherence())\n",
    "\n",
    "    return model_list, coherence_values\n"
   ]
  },
  {
   "cell_type": "markdown",
   "metadata": {},
   "source": [
    "# Create a model list and plot Coherence score against a number of topics"
   ]
  },
  {
   "cell_type": "code",
   "execution_count": 20,
   "metadata": {},
   "outputs": [
    {
     "data": {
      "image/png": "[encoded data removed]",
      "text/plain": [
       "<Figure size 432x288 with 1 Axes>"
      ]
     },
     "metadata": {
      "needs_background": "light"
     },
     "output_type": "display_data"
    }
   ],
   "source": [
    "model_list, coherence_values = compute_coherence_values(dictionary=dictionary, corpus=corpus, texts=docs, start=10, limit=50, step=5)\n",
    "# Show graph\n",
    "import matplotlib.pyplot as plt\n",
    "limit=50; start=10; step=5;\n",
    "x = range(start, limit, step)\n",
    "plt.plot(x, coherence_values)\n",
    "plt.xlabel(\"Num Topics\")\n",
    "plt.ylabel(\"Coherence score\")\n",
    "plt.legend((\"coherence_values\"), loc='best')\n",
    "plt.show()"
   ]
  },
  {
   "cell_type": "markdown",
   "metadata": {},
   "source": [
    "The diagram shows that the optimal number of topics is 10."
   ]
  },
  {
   "cell_type": "code",
   "execution_count": 21,
   "metadata": {},
   "outputs": [
    {
     "name": "stdout",
     "output_type": "stream",
     "text": [
      "Num Topics = 10  has Coherence Value of 0.5399\n",
      "Num Topics = 15  has Coherence Value of 0.3984\n",
      "Num Topics = 20  has Coherence Value of 0.3951\n",
      "Num Topics = 25  has Coherence Value of 0.3766\n",
      "Num Topics = 30  has Coherence Value of 0.4162\n",
      "Num Topics = 35  has Coherence Value of 0.3932\n",
      "Num Topics = 40  has Coherence Value of 0.3777\n",
      "Num Topics = 45  has Coherence Value of 0.3878\n"
     ]
    }
   ],
   "source": [
    "# Print the coherence scores\n",
    "for m, cv in zip(x, coherence_values):\n",
    "    print(\"Num Topics =\", m, \" has Coherence Value of\", round(cv, 4))"
   ]
  },
  {
   "cell_type": "markdown",
   "metadata": {},
   "source": [
    "# Selecting The Optimal Model"
   ]
  },
  {
   "cell_type": "code",
   "execution_count": 25,
   "metadata": {
    "collapsed": true
   },
   "outputs": [],
   "source": [
    "#finding the number of topics that gives the highest Coherence Value \n",
    "max_cv=max(coherence_values)\n",
    "#finding the index of the model with this numnber of topics\n",
    "index_model=coherence_values.index(max_cv)\n",
    "#print(index_model)\n",
    "# Select the model and print the topics \n",
    "optimal_model = model_list[index_model]\n",
    "model_topics = optimal_model.show_topics(formatted=False)\n",
    "#pprint(optimal_model.print_topics(num_words=10))"
   ]
  },
  {
   "cell_type": "markdown",
   "metadata": {
    "collapsed": true
   },
   "source": [
    "# Writing the topics along with the 10 most frequent words in a file"
   ]
  },
  {
   "cell_type": "code",
   "execution_count": 26,
   "metadata": {
    "collapsed": true
   },
   "outputs": [],
   "source": [
    "import re\n",
    "with open('c://UNT//Topics_UN_Bg.csv','w') as fw:\n",
    "    fw.write(\"topic_id,term0,term1,term2,term3,term4,term5,term6,term7,term8,term9\"+\"\\n\")\n",
    "    for i in optimal_model.print_topics():\n",
    "        r1 = re.findall(r\"\\w+\",i[1])\n",
    "        line=str(i[0])\n",
    "        for item in r1:\n",
    "            if not item.isdigit():\n",
    "                line=line+','+item\n",
    "        fw.write(line+'\\n')"
   ]
  },
  {
   "cell_type": "markdown",
   "metadata": {},
   "source": [
    "# Displaying the file\n",
    "This file is a csv file. Each line of the file contains a topic id along with 10 most common words for the topic."
   ]
  },
  {
   "cell_type": "code",
   "execution_count": 27,
   "metadata": {},
   "outputs": [
    {
     "data": {
      "text/html": [
       "<div>\n",
       "<style scoped>\n",
       "    .dataframe tbody tr th:only-of-type {\n",
       "        vertical-align: middle;\n",
       "    }\n",
       "\n",
       "    .dataframe tbody tr th {\n",
       "        vertical-align: top;\n",
       "    }\n",
       "\n",
       "    .dataframe thead th {\n",
       "        text-align: right;\n",
       "    }\n",
       "</style>\n",
       "<table border=\"1\" class=\"dataframe\">\n",
       "  <thead>\n",
       "    <tr style=\"text-align: right;\">\n",
       "      <th></th>\n",
       "      <th>topic_id</th>\n",
       "      <th>term0</th>\n",
       "      <th>term1</th>\n",
       "      <th>term2</th>\n",
       "      <th>term3</th>\n",
       "      <th>term4</th>\n",
       "      <th>term5</th>\n",
       "      <th>term6</th>\n",
       "      <th>term7</th>\n",
       "      <th>term8</th>\n",
       "      <th>term9</th>\n",
       "    </tr>\n",
       "  </thead>\n",
       "  <tbody>\n",
       "    <tr>\n",
       "      <th>0</th>\n",
       "      <td>0</td>\n",
       "      <td>republic_korea</td>\n",
       "      <td>korean_peninsula</td>\n",
       "      <td>korean</td>\n",
       "      <td>soviet_union</td>\n",
       "      <td>democratic_republic</td>\n",
       "      <td>peninsula</td>\n",
       "      <td>national_reconciliation</td>\n",
       "      <td>western_sahara</td>\n",
       "      <td>third_world</td>\n",
       "      <td>chad</td>\n",
       "    </tr>\n",
       "    <tr>\n",
       "      <th>1</th>\n",
       "      <td>1</td>\n",
       "      <td>third_world</td>\n",
       "      <td>african_union</td>\n",
       "      <td>ethiopia</td>\n",
       "      <td>south_african</td>\n",
       "      <td>soviet_union</td>\n",
       "      <td>democratic_republic</td>\n",
       "      <td>african_unity</td>\n",
       "      <td>industrialized_country</td>\n",
       "      <td>western_sahara</td>\n",
       "      <td>special_session</td>\n",
       "    </tr>\n",
       "    <tr>\n",
       "      <th>2</th>\n",
       "      <td>2</td>\n",
       "      <td>small_island</td>\n",
       "      <td>caribbean</td>\n",
       "      <td>trinidad_tobago</td>\n",
       "      <td>saint_lucia</td>\n",
       "      <td>twenty_first</td>\n",
       "      <td>millennium_development</td>\n",
       "      <td>agenda_sustainable</td>\n",
       "      <td>natural_disaster</td>\n",
       "      <td>middle_income</td>\n",
       "      <td>most_vulnerable</td>\n",
       "    </tr>\n",
       "    <tr>\n",
       "      <th>3</th>\n",
       "      <td>3</td>\n",
       "      <td>european_union</td>\n",
       "      <td>african_union</td>\n",
       "      <td>millennium_development</td>\n",
       "      <td>good_governance</td>\n",
       "      <td>around_world</td>\n",
       "      <td>bosnia_herzegovina</td>\n",
       "      <td>next_year</td>\n",
       "      <td>sierra_leone</td>\n",
       "      <td>twenty_first</td>\n",
       "      <td>syria</td>\n",
       "    </tr>\n",
       "    <tr>\n",
       "      <th>4</th>\n",
       "      <td>4</td>\n",
       "      <td>central_african</td>\n",
       "      <td>democratic_republic</td>\n",
       "      <td>african_union</td>\n",
       "      <td>guinea_bissau</td>\n",
       "      <td>guinea</td>\n",
       "      <td>millennium_development</td>\n",
       "      <td>south_sudan</td>\n",
       "      <td>african_continent</td>\n",
       "      <td>least_developed</td>\n",
       "      <td>congo</td>\n",
       "    </tr>\n",
       "    <tr>\n",
       "      <th>5</th>\n",
       "      <td>5</td>\n",
       "      <td>syria</td>\n",
       "      <td>syrian</td>\n",
       "      <td>islamic</td>\n",
       "      <td>libya</td>\n",
       "      <td>sudan</td>\n",
       "      <td>kingdom_saudi</td>\n",
       "      <td>soviet_union</td>\n",
       "      <td>yemen</td>\n",
       "      <td>third_world</td>\n",
       "      <td>weapon_mass</td>\n",
       "    </tr>\n",
       "    <tr>\n",
       "      <th>6</th>\n",
       "      <td>6</td>\n",
       "      <td>soviet_union</td>\n",
       "      <td>third_world</td>\n",
       "      <td>cuba</td>\n",
       "      <td>super_power</td>\n",
       "      <td>small_island</td>\n",
       "      <td>foreign_policy</td>\n",
       "      <td>peace_keeping</td>\n",
       "      <td>natural_resource</td>\n",
       "      <td>chemical_weapon</td>\n",
       "      <td>south_african</td>\n",
       "    </tr>\n",
       "    <tr>\n",
       "      <th>7</th>\n",
       "      <td>7</td>\n",
       "      <td>solomon_island</td>\n",
       "      <td>central_america</td>\n",
       "      <td>costa_rica</td>\n",
       "      <td>latin_american</td>\n",
       "      <td>central_american</td>\n",
       "      <td>european_union</td>\n",
       "      <td>drug_trafficking</td>\n",
       "      <td>saint_kitts</td>\n",
       "      <td>solomon</td>\n",
       "      <td>natural_resource</td>\n",
       "    </tr>\n",
       "    <tr>\n",
       "      <th>8</th>\n",
       "      <td>8</td>\n",
       "      <td>dominican_republic</td>\n",
       "      <td>cape_verde</td>\n",
       "      <td>peace_keeping</td>\n",
       "      <td>third_world</td>\n",
       "      <td>soviet_union</td>\n",
       "      <td>democratic_republic</td>\n",
       "      <td>peaceful_settlement</td>\n",
       "      <td>african_unity</td>\n",
       "      <td>dominican</td>\n",
       "      <td>south_african</td>\n",
       "    </tr>\n",
       "    <tr>\n",
       "      <th>9</th>\n",
       "      <td>9</td>\n",
       "      <td>small_island</td>\n",
       "      <td>pacific</td>\n",
       "      <td>pacific_island</td>\n",
       "      <td>republic_korea</td>\n",
       "      <td>papua_guinea</td>\n",
       "      <td>japan</td>\n",
       "      <td>twenty_first</td>\n",
       "      <td>next_year</td>\n",
       "      <td>least_developed</td>\n",
       "      <td>north_korea</td>\n",
       "    </tr>\n",
       "  </tbody>\n",
       "</table>\n",
       "</div>"
      ],
      "text/plain": [
       "   topic_id               term0                term1                   term2  \\\n",
       "0         0      republic_korea     korean_peninsula                  korean   \n",
       "1         1         third_world        african_union                ethiopia   \n",
       "2         2        small_island            caribbean         trinidad_tobago   \n",
       "3         3      european_union        african_union  millennium_development   \n",
       "4         4     central_african  democratic_republic           african_union   \n",
       "5         5               syria               syrian                 islamic   \n",
       "6         6        soviet_union          third_world                    cuba   \n",
       "7         7      solomon_island      central_america              costa_rica   \n",
       "8         8  dominican_republic           cape_verde           peace_keeping   \n",
       "9         9        small_island              pacific          pacific_island   \n",
       "\n",
       "             term3                term4                   term5  \\\n",
       "0     soviet_union  democratic_republic               peninsula   \n",
       "1    south_african         soviet_union     democratic_republic   \n",
       "2      saint_lucia         twenty_first  millennium_development   \n",
       "3  good_governance         around_world      bosnia_herzegovina   \n",
       "4    guinea_bissau               guinea  millennium_development   \n",
       "5            libya                sudan           kingdom_saudi   \n",
       "6      super_power         small_island          foreign_policy   \n",
       "7   latin_american     central_american          european_union   \n",
       "8      third_world         soviet_union     democratic_republic   \n",
       "9   republic_korea         papua_guinea                   japan   \n",
       "\n",
       "                     term6                   term7            term8  \\\n",
       "0  national_reconciliation          western_sahara      third_world   \n",
       "1            african_unity  industrialized_country   western_sahara   \n",
       "2       agenda_sustainable        natural_disaster    middle_income   \n",
       "3                next_year            sierra_leone     twenty_first   \n",
       "4              south_sudan       african_continent  least_developed   \n",
       "5             soviet_union                   yemen      third_world   \n",
       "6            peace_keeping        natural_resource  chemical_weapon   \n",
       "7         drug_trafficking             saint_kitts          solomon   \n",
       "8      peaceful_settlement           african_unity        dominican   \n",
       "9             twenty_first               next_year  least_developed   \n",
       "\n",
       "              term9  \n",
       "0              chad  \n",
       "1   special_session  \n",
       "2   most_vulnerable  \n",
       "3             syria  \n",
       "4             congo  \n",
       "5       weapon_mass  \n",
       "6     south_african  \n",
       "7  natural_resource  \n",
       "8     south_african  \n",
       "9       north_korea  "
      ]
     },
     "metadata": {},
     "output_type": "display_data"
    }
   ],
   "source": [
    "from IPython.display import display\n",
    "import pandas\n",
    "df = pandas.read_csv(\"c://UNT//Topics_UN_Bg.csv\")\n",
    "display(df)"
   ]
  },
  {
   "cell_type": "markdown",
   "metadata": {
    "collapsed": true
   },
   "source": [
    "# The file is fed to the paper's model and the unsupervised Labels are:"
   ]
  },
  {
   "cell_type": "code",
   "execution_count": 29,
   "metadata": {},
   "outputs": [
    {
     "data": {
      "text/html": [
       "<div>\n",
       "<style scoped>\n",
       "    .dataframe tbody tr th:only-of-type {\n",
       "        vertical-align: middle;\n",
       "    }\n",
       "\n",
       "    .dataframe tbody tr th {\n",
       "        vertical-align: top;\n",
       "    }\n",
       "\n",
       "    .dataframe thead th {\n",
       "        text-align: right;\n",
       "    }\n",
       "</style>\n",
       "<table border=\"1\" class=\"dataframe\">\n",
       "  <thead>\n",
       "    <tr style=\"text-align: right;\">\n",
       "      <th></th>\n",
       "      <th>Topic_id</th>\n",
       "      <th>Label_1</th>\n",
       "      <th>Label_2</th>\n",
       "      <th>Label_3</th>\n",
       "    </tr>\n",
       "  </thead>\n",
       "  <tbody>\n",
       "    <tr>\n",
       "      <th>0</th>\n",
       "      <td>0</td>\n",
       "      <td>korea</td>\n",
       "      <td>south_korea</td>\n",
       "      <td>eritrea</td>\n",
       "    </tr>\n",
       "    <tr>\n",
       "      <th>1</th>\n",
       "      <td>1</td>\n",
       "      <td>africa</td>\n",
       "      <td>south_sudan</td>\n",
       "      <td>somalia</td>\n",
       "    </tr>\n",
       "    <tr>\n",
       "      <th>2</th>\n",
       "      <td>2</td>\n",
       "      <td>trinidad_and_tobago</td>\n",
       "      <td>saint_kitts</td>\n",
       "      <td>turks_and_caicos_islands</td>\n",
       "    </tr>\n",
       "    <tr>\n",
       "      <th>3</th>\n",
       "      <td>3</td>\n",
       "      <td>southern_african_development_community</td>\n",
       "      <td>organisation_of_african_unity</td>\n",
       "      <td>syrian_civil_war</td>\n",
       "    </tr>\n",
       "    <tr>\n",
       "      <th>4</th>\n",
       "      <td>4</td>\n",
       "      <td>central_african_republic</td>\n",
       "      <td>central_africa</td>\n",
       "      <td>guinea-bissau</td>\n",
       "    </tr>\n",
       "    <tr>\n",
       "      <th>5</th>\n",
       "      <td>5</td>\n",
       "      <td>syrian_civil_war</td>\n",
       "      <td>libya</td>\n",
       "      <td>sudan</td>\n",
       "    </tr>\n",
       "    <tr>\n",
       "      <th>6</th>\n",
       "      <td>6</td>\n",
       "      <td>cuban_revolution</td>\n",
       "      <td>cubans</td>\n",
       "      <td>latin_america</td>\n",
       "    </tr>\n",
       "    <tr>\n",
       "      <th>7</th>\n",
       "      <td>7</td>\n",
       "      <td>central_america</td>\n",
       "      <td>latin_america</td>\n",
       "      <td>dominican_republic</td>\n",
       "    </tr>\n",
       "    <tr>\n",
       "      <th>8</th>\n",
       "      <td>8</td>\n",
       "      <td>dominican_republic</td>\n",
       "      <td>nicaragua</td>\n",
       "      <td>costa_rica</td>\n",
       "    </tr>\n",
       "    <tr>\n",
       "      <th>9</th>\n",
       "      <td>9</td>\n",
       "      <td>korea</td>\n",
       "      <td>south_korea</td>\n",
       "      <td>kuril_islands</td>\n",
       "    </tr>\n",
       "  </tbody>\n",
       "</table>\n",
       "</div>"
      ],
      "text/plain": [
       "   Topic_id                                 Label_1  \\\n",
       "0         0                                   korea   \n",
       "1         1                                  africa   \n",
       "2         2                     trinidad_and_tobago   \n",
       "3         3  southern_african_development_community   \n",
       "4         4                central_african_republic   \n",
       "5         5                        syrian_civil_war   \n",
       "6         6                        cuban_revolution   \n",
       "7         7                         central_america   \n",
       "8         8                      dominican_republic   \n",
       "9         9                                   korea   \n",
       "\n",
       "                         Label_2                   Label_3  \n",
       "0                    south_korea                   eritrea  \n",
       "1                    south_sudan                   somalia  \n",
       "2                    saint_kitts  turks_and_caicos_islands  \n",
       "3  organisation_of_african_unity          syrian_civil_war  \n",
       "4                 central_africa             guinea-bissau  \n",
       "5                          libya                     sudan  \n",
       "6                         cubans             latin_america  \n",
       "7                  latin_america        dominican_republic  \n",
       "8                      nicaragua                costa_rica  \n",
       "9                    south_korea             kuril_islands  "
      ]
     },
     "metadata": {},
     "output_type": "display_data"
    }
   ],
   "source": [
    "#The Labels are saved into a file named output_unsupervised23.txt\n",
    "#The following code changes the file into CSV format to be shown here\n",
    "with open(\"C://Labels//output_unsupervised23.txt\") as fi:\n",
    "    content=fi.read().strip().split(\"top 3 labels for topic\")\n",
    "\n",
    "with open (\"C://Labels//Labels_bg_un\",\"w\") as fw:\n",
    "    fw.write(\"Topic_id,Label_1,Label_2,Label_3\"+'\\n')\n",
    "    Topic_id=0\n",
    "    for i in content:\n",
    "       i=i.split('\\n')\n",
    "       if len(i)>3:         \n",
    "         fw.write(str(Topic_id)+','+i[1]+','+i[2]+','+i[3]+'\\n')\n",
    "         Topic_id+=1\n",
    "    \n",
    "df = pandas.read_csv(\"C://Labels//Labels_bg_un\")\n",
    "display(df)"
   ]
  },
  {
   "cell_type": "markdown",
   "metadata": {
    "collapsed": true
   },
   "source": [
    "# The file is fed to the paper's model and the supervised Labels are:"
   ]
  },
  {
   "cell_type": "code",
   "execution_count": 30,
   "metadata": {},
   "outputs": [
    {
     "data": {
      "text/html": [
       "<div>\n",
       "<style scoped>\n",
       "    .dataframe tbody tr th:only-of-type {\n",
       "        vertical-align: middle;\n",
       "    }\n",
       "\n",
       "    .dataframe tbody tr th {\n",
       "        vertical-align: top;\n",
       "    }\n",
       "\n",
       "    .dataframe thead th {\n",
       "        text-align: right;\n",
       "    }\n",
       "</style>\n",
       "<table border=\"1\" class=\"dataframe\">\n",
       "  <thead>\n",
       "    <tr style=\"text-align: right;\">\n",
       "      <th></th>\n",
       "      <th>Topic_id</th>\n",
       "      <th>Label_1</th>\n",
       "      <th>Label_2</th>\n",
       "      <th>Label_3</th>\n",
       "    </tr>\n",
       "  </thead>\n",
       "  <tbody>\n",
       "    <tr>\n",
       "      <th>0</th>\n",
       "      <td>0</td>\n",
       "      <td>korea</td>\n",
       "      <td>south_korea</td>\n",
       "      <td>eritrea</td>\n",
       "    </tr>\n",
       "    <tr>\n",
       "      <th>1</th>\n",
       "      <td>1</td>\n",
       "      <td>africa</td>\n",
       "      <td>somalia</td>\n",
       "      <td>south_sudan</td>\n",
       "    </tr>\n",
       "    <tr>\n",
       "      <th>2</th>\n",
       "      <td>2</td>\n",
       "      <td>trinidad_and_tobago</td>\n",
       "      <td>saint_kitts</td>\n",
       "      <td>turks_and_caicos_islands</td>\n",
       "    </tr>\n",
       "    <tr>\n",
       "      <th>3</th>\n",
       "      <td>3</td>\n",
       "      <td>united_nations</td>\n",
       "      <td>yemen</td>\n",
       "      <td>organisation_of_african_unity</td>\n",
       "    </tr>\n",
       "    <tr>\n",
       "      <th>4</th>\n",
       "      <td>4</td>\n",
       "      <td>republic_of_the_congo</td>\n",
       "      <td>equatorial_guinea</td>\n",
       "      <td>central_african_republic</td>\n",
       "    </tr>\n",
       "    <tr>\n",
       "      <th>5</th>\n",
       "      <td>5</td>\n",
       "      <td>yemen</td>\n",
       "      <td>sudan</td>\n",
       "      <td>libya</td>\n",
       "    </tr>\n",
       "    <tr>\n",
       "      <th>6</th>\n",
       "      <td>6</td>\n",
       "      <td>latin_america</td>\n",
       "      <td>nicaragua</td>\n",
       "      <td>cuban_revolution</td>\n",
       "    </tr>\n",
       "    <tr>\n",
       "      <th>7</th>\n",
       "      <td>7</td>\n",
       "      <td>central_america</td>\n",
       "      <td>colombia</td>\n",
       "      <td>latin_america</td>\n",
       "    </tr>\n",
       "    <tr>\n",
       "      <th>8</th>\n",
       "      <td>8</td>\n",
       "      <td>dominican_republic</td>\n",
       "      <td>nicaragua</td>\n",
       "      <td>costa_rica</td>\n",
       "    </tr>\n",
       "    <tr>\n",
       "      <th>9</th>\n",
       "      <td>9</td>\n",
       "      <td>korea</td>\n",
       "      <td>south_korea</td>\n",
       "      <td>kuril_islands</td>\n",
       "    </tr>\n",
       "  </tbody>\n",
       "</table>\n",
       "</div>"
      ],
      "text/plain": [
       "   Topic_id                Label_1            Label_2  \\\n",
       "0         0                  korea        south_korea   \n",
       "1         1                 africa            somalia   \n",
       "2         2    trinidad_and_tobago        saint_kitts   \n",
       "3         3         united_nations              yemen   \n",
       "4         4  republic_of_the_congo  equatorial_guinea   \n",
       "5         5                  yemen              sudan   \n",
       "6         6          latin_america          nicaragua   \n",
       "7         7        central_america           colombia   \n",
       "8         8     dominican_republic          nicaragua   \n",
       "9         9                  korea        south_korea   \n",
       "\n",
       "                         Label_3  \n",
       "0                        eritrea  \n",
       "1                    south_sudan  \n",
       "2       turks_and_caicos_islands  \n",
       "3  organisation_of_african_unity  \n",
       "4       central_african_republic  \n",
       "5                          libya  \n",
       "6               cuban_revolution  \n",
       "7                  latin_america  \n",
       "8                     costa_rica  \n",
       "9                  kuril_islands  "
      ]
     },
     "metadata": {},
     "output_type": "display_data"
    }
   ],
   "source": [
    "#The Labels are saved into a file named output_supervised23.txt\n",
    "#The following code changes the file into CSV format to be shown here\n",
    "with open(\"C://Labels//output_supervised23.txt\") as fi:\n",
    "    content=fi.read().strip().split(\"Top 3 labels for topic\")\n",
    "\n",
    "with open (\"C://Labels//Labels_bg_su\",\"w\") as fw:\n",
    "    fw.write(\"Topic_id,Label_1,Label_2,Label_3\"+'\\n')\n",
    "    Topic_id=0\n",
    "    for i in content:\n",
    "       i=i.split('\\n')\n",
    "       if len(i)>3:         \n",
    "         fw.write(str(Topic_id)+','+i[1]+','+i[2]+','+i[3]+'\\n')\n",
    "         Topic_id+=1\n",
    "    \n",
    "df = pandas.read_csv(\"C://Labels//Labels_bg_su\")\n",
    "display(df)"
   ]
  },
  {
   "cell_type": "markdown",
   "metadata": {},
   "source": [
    "The Labels are produced using a neural embedding approach and Wikipedia titles. Each Wikipedia title is represented by two embeddings: doc2vec and word2vec.\n",
    "\n",
    "The doc2vec embedding of a title is the embedding of the document the label is associated with and its word2vec embedding is the result of generating word embeddings for the title. To this end, titles are treated as a single token (e.g. concatenating financial crisis into financial_crisis) and then the text of all of the Wikipedia articles are greedily tokenized, and the word embeddings for the tokens are built using SkipGram algorithm.\n",
    "\n",
    "In order to generate labels, first, the relevant candidates are generated and then ranked.\n",
    "\n",
    "To generate the candidates, given a topic, the cosine similarity between the title embeddings (generated by either doc2vec or word2vec) and each of the word embeddings for the top-10 topic terms is calculated and aggregated by taking the arithmetic mean. The title which yields the highest similarity score is selected as the most relevant label for the topic.\n",
    "\n",
    "The generated labels are stored in a file called output_candidates and ranked in two fashions:\n",
    "\n",
    "1- Unsueprvised: where the only feature used to rank labels is LetterTrigram (Kou et al., 2015)\n",
    "\n",
    "2-Supervised: The generated candidates are ranked by a support vector regression model (SVR: Joachims (2006) which is trained over four features using a gold standard order of candidates. The first two features are extracted using two algorithms, LetterTrigram (Kou et al., 2015) and PageRank (Page et al., 1998; the last two features are NumWords, which is simply the number of words in the candidate label (for example developing country has 2 words); and (2) TopicOverlap, which is the lexical overlap between the candidate label and the top-10 topic terms."
   ]
  }
 ],
 "metadata": {
  "kernelspec": {
   "display_name": "Python 3",
   "language": "python",
   "name": "python3"
  },
  "language_info": {
   "codemirror_mode": {
    "name": "ipython",
    "version": 3
   },
   "file_extension": ".py",
   "mimetype": "text/x-python",
   "name": "python",
   "nbconvert_exporter": "python",
   "pygments_lexer": "ipython3",
   "version": "3.6.3"
  }
 },
 "nbformat": 4,
 "nbformat_minor": 2
}
